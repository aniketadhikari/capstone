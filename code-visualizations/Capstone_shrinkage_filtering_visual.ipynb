{
 "cells": [
  {
   "cell_type": "markdown",
   "id": "1ff5c3df",
   "metadata": {},
   "source": [
    "# Shrinkage Filtering Visualizations"
   ]
  },
  {
   "cell_type": "code",
   "execution_count": 1,
   "id": "c6261724",
   "metadata": {},
   "outputs": [],
   "source": [
    "import ipywidgets as widgets\n",
    "from IPython.display import display\n",
    "import pandas as pd\n",
    "import numpy as np\n",
    "import os\n",
    "import matplotlib.pyplot as plt \n",
    "import seaborn as sns"
   ]
  },
  {
   "cell_type": "code",
   "execution_count": 12,
   "id": "2bc9ce3c",
   "metadata": {},
   "outputs": [],
   "source": [
    "data = pd.read_csv(\"INV_ADJ_ANAL.csv\")"
   ]
  },
  {
   "cell_type": "code",
   "execution_count": 20,
   "id": "7c1780b5",
   "metadata": {
    "scrolled": false
   },
   "outputs": [
    {
     "data": {
      "application/vnd.jupyter.widget-view+json": {
       "model_id": "830dfbfb1cdb409c8301e3f6b0a76b17",
       "version_major": 2,
       "version_minor": 0
      },
      "text/plain": [
       "Dropdown(description='Col:', options=('-', 'COMMAND_CD', 'SITE_ID', 'ADJUSTMENT_CATEGORY', 'DESCRIPTION', 'DIV…"
      ]
     },
     "metadata": {},
     "output_type": "display_data"
    },
    {
     "data": {
      "application/vnd.jupyter.widget-view+json": {
       "model_id": "82f50aabc5e84c56b3a456577d376d73",
       "version_major": 2,
       "version_minor": 0
      },
      "text/plain": [
       "Dropdown(description='Val:', options=('-', 14100, 4100, 9300, 5304, 5102, 13100, 2301, 2500, 13307, 13306, 153…"
      ]
     },
     "metadata": {},
     "output_type": "display_data"
    },
    {
     "data": {
      "application/vnd.jupyter.widget-view+json": {
       "model_id": "8e6db9a9b5244e36b567f0efe208f0dc",
       "version_major": 2,
       "version_minor": 0
      },
      "text/plain": [
       "Dropdown(description='Col:', options=('-', 'COMMAND_CD', 'SITE_ID', 'ADJUSTMENT_CATEGORY', 'DESCRIPTION', 'DIV…"
      ]
     },
     "metadata": {},
     "output_type": "display_data"
    },
    {
     "data": {
      "application/vnd.jupyter.widget-view+json": {
       "model_id": "e126ad06989847d39cf04edc885996c2",
       "version_major": 2,
       "version_minor": 0
      },
      "text/plain": [
       "Dropdown(description='Val:', options=('-', 'Surveys', 'Shrink', 'All Other', 'Reconciliation'), value='-')"
      ]
     },
     "metadata": {},
     "output_type": "display_data"
    },
    {
     "data": {
      "application/vnd.jupyter.widget-view+json": {
       "model_id": "c2e76d8c89bb4f6d8ddb3aca6ba7d4f7",
       "version_major": 2,
       "version_minor": 0
      },
      "text/plain": [
       "Dropdown(description='Col:', options=('-', 'COMMAND_CD', 'SITE_ID', 'ADJUSTMENT_CATEGORY', 'DESCRIPTION', 'DIV…"
      ]
     },
     "metadata": {},
     "output_type": "display_data"
    },
    {
     "data": {
      "application/vnd.jupyter.widget-view+json": {
       "model_id": "a5bf96ed3e6f4b7ea1f80b29e1ac35ee",
       "version_major": 2,
       "version_minor": 0
      },
      "text/plain": [
       "Dropdown(description='Val:', options=('-', 'Consumables', 'Softlines', 'Hardlines', 'Comm Military', 'NON-RMS'…"
      ]
     },
     "metadata": {},
     "output_type": "display_data"
    },
    {
     "data": {
      "application/vnd.jupyter.widget-view+json": {
       "model_id": "c47fe688aea04dbdaa54eada829f57c8",
       "version_major": 2,
       "version_minor": 0
      },
      "text/plain": [
       "Dropdown(description='Col:', options=('-', 'COMMAND_CD', 'SITE_ID', 'ADJUSTMENT_CATEGORY', 'DESCRIPTION', 'DIV…"
      ]
     },
     "metadata": {},
     "output_type": "display_data"
    },
    {
     "data": {
      "application/vnd.jupyter.widget-view+json": {
       "model_id": "7f47648ef23341c7a1d934db2cb46576",
       "version_major": 2,
       "version_minor": 0
      },
      "text/plain": [
       "Dropdown(description='Val:', options=('-', 2023, 2024, 2022), value='-')"
      ]
     },
     "metadata": {},
     "output_type": "display_data"
    },
    {
     "data": {
      "application/vnd.jupyter.widget-view+json": {
       "model_id": "1bc25fa3641f4f1c846751d2f8dd250e",
       "version_major": 2,
       "version_minor": 0
      },
      "text/plain": [
       "Dropdown(description='Col:', options=('-', 'COMMAND_CD', 'SITE_ID', 'ADJUSTMENT_CATEGORY', 'DESCRIPTION', 'DIV…"
      ]
     },
     "metadata": {},
     "output_type": "display_data"
    }
   ],
   "source": [
    "DDD = []\n",
    "\n",
    "def create_dropdown(opts, caption='Col:'):\n",
    "    dropdown = widgets.Dropdown(\n",
    "        options=opts,\n",
    "        value='-',\n",
    "        description=caption,\n",
    "        disabled=False,\n",
    "    )\n",
    "    dropdown.observe(on_dropdown_change, names='value')\n",
    "    dropdown.ind = None\n",
    "    return dropdown\n",
    "\n",
    "def on_dropdown_change(change):\n",
    "    for i, dd in enumerate(DDD):\n",
    "        dd.ind = i\n",
    "    if change['owner'].ind % 2:\n",
    "        #VAL SELECTORS\n",
    "        if change['new'] != '-':\n",
    "            if change['owner'].ind == len(DDD)-1:\n",
    "                opts = ['-'] + [q for q in data.columns]\n",
    "                new_dropdown = create_dropdown(opts)\n",
    "                display(new_dropdown)\n",
    "                DDD.append(new_dropdown)\n",
    "        else:\n",
    "            pass\n",
    "    else:\n",
    "        #COL SELECTORS\n",
    "        if change['new'] != '-':\n",
    "            opts = ['-'] + data[change.new].unique().tolist()\n",
    "            new_dropdown = create_dropdown(opts, 'Val:')\n",
    "            display(new_dropdown)\n",
    "            DDD.append(new_dropdown)\n",
    "        else:\n",
    "            DDD[change['owner'].ind + 1].close()\n",
    "            del DDD[change['owner'].ind + 1]\n",
    "            if change['owner'].ind != len(DDD)-1:\n",
    "                DDD[change['owner'].ind].close()\n",
    "                del DDD[change['owner'].ind]\n",
    "\n",
    "def create_visual(feature, data):\n",
    "    sns.scatterplot(x = data[\"PERIOD\"], y = data[\"TY_QTY\"], hue = feature, data = data)\n",
    "    title = f\"shrinkage vs year period\"\n",
    "    plt.title(title)\n",
    "    plt.xlabel(\"year period\")\n",
    "    plt.ylabel(f\"Shrikage quantity\")\n",
    "    plt.legend(bbox_to_anchor=(1.05, 1), loc='upper left')\n",
    "    plt.xticks(rotation='vertical')\n",
    "    plt.show()\n",
    "               \n",
    "\n",
    "# Create the initial dropdown and display it\n",
    "initial_dropdown = create_dropdown(opts = ['-'] + [q for q in data.columns])\n",
    "DDD.append(initial_dropdown)\n",
    "\n",
    "display(initial_dropdown)"
   ]
  },
  {
   "cell_type": "code",
   "execution_count": 22,
   "id": "a42629d1",
   "metadata": {
    "scrolled": false
   },
   "outputs": [
    {
     "data": {
      "text/html": [
       "<div>\n",
       "<style scoped>\n",
       "    .dataframe tbody tr th:only-of-type {\n",
       "        vertical-align: middle;\n",
       "    }\n",
       "\n",
       "    .dataframe tbody tr th {\n",
       "        vertical-align: top;\n",
       "    }\n",
       "\n",
       "    .dataframe thead th {\n",
       "        text-align: right;\n",
       "    }\n",
       "</style>\n",
       "<table border=\"1\" class=\"dataframe\">\n",
       "  <thead>\n",
       "    <tr style=\"text-align: right;\">\n",
       "      <th></th>\n",
       "      <th>COMMAND_CD</th>\n",
       "      <th>SITE_ID</th>\n",
       "      <th>ADJUSTMENT_CATEGORY</th>\n",
       "      <th>DESCRIPTION</th>\n",
       "      <th>DIVISION</th>\n",
       "      <th>LOB_DESC</th>\n",
       "      <th>DEPT_DESC</th>\n",
       "      <th>CLASS</th>\n",
       "      <th>SUB_CLASS</th>\n",
       "      <th>MERCHANDISING_YEAR</th>\n",
       "      <th>MERCHANDISING_PERIOD</th>\n",
       "      <th>PERIOD</th>\n",
       "      <th>TY_QTY</th>\n",
       "      <th>TY_VALUE</th>\n",
       "      <th>LY_QTY2</th>\n",
       "      <th>LY_VALUE2</th>\n",
       "      <th>LM_QTY3</th>\n",
       "      <th>LM_VALUE3</th>\n",
       "    </tr>\n",
       "  </thead>\n",
       "  <tbody>\n",
       "    <tr>\n",
       "      <th>173720</th>\n",
       "      <td>PNM</td>\n",
       "      <td>14100</td>\n",
       "      <td>Shrink</td>\n",
       "      <td>300-ON HAND CORRECTION</td>\n",
       "      <td>Consumables</td>\n",
       "      <td>Personal Care</td>\n",
       "      <td>PERSNL CARE ELECTRIC</td>\n",
       "      <td>1300 - ORAL HYGIENE</td>\n",
       "      <td>1301 - TOOTHBRUSHES</td>\n",
       "      <td>2023</td>\n",
       "      <td>1</td>\n",
       "      <td>2023-01</td>\n",
       "      <td>-1</td>\n",
       "      <td>(47.99)</td>\n",
       "      <td>-</td>\n",
       "      <td>-</td>\n",
       "      <td>-</td>\n",
       "      <td>-</td>\n",
       "    </tr>\n",
       "    <tr>\n",
       "      <th>173727</th>\n",
       "      <td>PNM</td>\n",
       "      <td>14100</td>\n",
       "      <td>Shrink</td>\n",
       "      <td>300-ON HAND CORRECTION</td>\n",
       "      <td>Consumables</td>\n",
       "      <td>Hardware</td>\n",
       "      <td>GENERAL HARDWARE</td>\n",
       "      <td>1200 - LIGHT BULBS</td>\n",
       "      <td>1201 - INCANDESCENT</td>\n",
       "      <td>2023</td>\n",
       "      <td>1</td>\n",
       "      <td>2023-01</td>\n",
       "      <td>-2</td>\n",
       "      <td>(5.98)</td>\n",
       "      <td>-</td>\n",
       "      <td>-</td>\n",
       "      <td>-</td>\n",
       "      <td>-</td>\n",
       "    </tr>\n",
       "    <tr>\n",
       "      <th>173927</th>\n",
       "      <td>PNM</td>\n",
       "      <td>14100</td>\n",
       "      <td>Shrink</td>\n",
       "      <td>300-ON HAND CORRECTION</td>\n",
       "      <td>Consumables</td>\n",
       "      <td>Food</td>\n",
       "      <td>DRY GROCERY</td>\n",
       "      <td>1500 - NUTS &amp; SEEDS</td>\n",
       "      <td>1501 - NUTS</td>\n",
       "      <td>2023</td>\n",
       "      <td>1</td>\n",
       "      <td>2023-01</td>\n",
       "      <td>-1</td>\n",
       "      <td>(0.89)</td>\n",
       "      <td>-</td>\n",
       "      <td>-</td>\n",
       "      <td>-</td>\n",
       "      <td>-</td>\n",
       "    </tr>\n",
       "    <tr>\n",
       "      <th>174602</th>\n",
       "      <td>PNM</td>\n",
       "      <td>14100</td>\n",
       "      <td>Shrink</td>\n",
       "      <td>300-ON HAND CORRECTION</td>\n",
       "      <td>Consumables</td>\n",
       "      <td>Non Alcoholic Bev</td>\n",
       "      <td>NON-ALCOHOLIC BEVERAGES</td>\n",
       "      <td>1100 - CSD</td>\n",
       "      <td>1104 - 20OZ FLAVORED REG</td>\n",
       "      <td>2023</td>\n",
       "      <td>1</td>\n",
       "      <td>2023-01</td>\n",
       "      <td>-20</td>\n",
       "      <td>(39.80)</td>\n",
       "      <td>-</td>\n",
       "      <td>-</td>\n",
       "      <td>-</td>\n",
       "      <td>-</td>\n",
       "    </tr>\n",
       "    <tr>\n",
       "      <th>174693</th>\n",
       "      <td>PNM</td>\n",
       "      <td>14100</td>\n",
       "      <td>Shrink</td>\n",
       "      <td>300-ON HAND CORRECTION</td>\n",
       "      <td>Consumables</td>\n",
       "      <td>Wine</td>\n",
       "      <td>WINE</td>\n",
       "      <td>2100 - POPULAR</td>\n",
       "      <td>2110 - MOSCATO</td>\n",
       "      <td>2023</td>\n",
       "      <td>1</td>\n",
       "      <td>2023-01</td>\n",
       "      <td>0</td>\n",
       "      <td>-</td>\n",
       "      <td>-</td>\n",
       "      <td>-</td>\n",
       "      <td>(1.00)</td>\n",
       "      <td>(9.99)</td>\n",
       "    </tr>\n",
       "    <tr>\n",
       "      <th>...</th>\n",
       "      <td>...</td>\n",
       "      <td>...</td>\n",
       "      <td>...</td>\n",
       "      <td>...</td>\n",
       "      <td>...</td>\n",
       "      <td>...</td>\n",
       "      <td>...</td>\n",
       "      <td>...</td>\n",
       "      <td>...</td>\n",
       "      <td>...</td>\n",
       "      <td>...</td>\n",
       "      <td>...</td>\n",
       "      <td>...</td>\n",
       "      <td>...</td>\n",
       "      <td>...</td>\n",
       "      <td>...</td>\n",
       "      <td>...</td>\n",
       "      <td>...</td>\n",
       "    </tr>\n",
       "    <tr>\n",
       "      <th>450659</th>\n",
       "      <td>PNM</td>\n",
       "      <td>14100</td>\n",
       "      <td>Shrink</td>\n",
       "      <td>300-ON HAND CORRECTION</td>\n",
       "      <td>Consumables</td>\n",
       "      <td>Cosmetics</td>\n",
       "      <td>BATH AND BODY</td>\n",
       "      <td>5900 - COCOA BROWN</td>\n",
       "      <td>5901 - BODY</td>\n",
       "      <td>2023</td>\n",
       "      <td>12</td>\n",
       "      <td>2023-12</td>\n",
       "      <td>0</td>\n",
       "      <td>-</td>\n",
       "      <td>(1.00)</td>\n",
       "      <td>(4.94)</td>\n",
       "      <td>-</td>\n",
       "      <td>-</td>\n",
       "    </tr>\n",
       "    <tr>\n",
       "      <th>450859</th>\n",
       "      <td>PNM</td>\n",
       "      <td>14100</td>\n",
       "      <td>Shrink</td>\n",
       "      <td>301-CYCLE COUNT</td>\n",
       "      <td>Consumables</td>\n",
       "      <td>Stationery</td>\n",
       "      <td>GREETING CARDS</td>\n",
       "      <td>1000 - GREETING CARDS</td>\n",
       "      <td>1003 - WEDDING/ANNIVERSARY</td>\n",
       "      <td>2023</td>\n",
       "      <td>12</td>\n",
       "      <td>2023-12</td>\n",
       "      <td>0</td>\n",
       "      <td>-</td>\n",
       "      <td>-</td>\n",
       "      <td>-</td>\n",
       "      <td>(2.00)</td>\n",
       "      <td>(5.78)</td>\n",
       "    </tr>\n",
       "    <tr>\n",
       "      <th>450936</th>\n",
       "      <td>PNM</td>\n",
       "      <td>14100</td>\n",
       "      <td>Shrink</td>\n",
       "      <td>300-ON HAND CORRECTION</td>\n",
       "      <td>Consumables</td>\n",
       "      <td>Cosmetics</td>\n",
       "      <td>PRESTIGE FRAGRANCE</td>\n",
       "      <td>1000 - HFC PRESTIGE</td>\n",
       "      <td>1007 - FRAGRANCE MEN</td>\n",
       "      <td>2023</td>\n",
       "      <td>12</td>\n",
       "      <td>2023-12</td>\n",
       "      <td>0</td>\n",
       "      <td>-</td>\n",
       "      <td>(1.00)</td>\n",
       "      <td>(53.00)</td>\n",
       "      <td>-</td>\n",
       "      <td>-</td>\n",
       "    </tr>\n",
       "    <tr>\n",
       "      <th>451894</th>\n",
       "      <td>PNM</td>\n",
       "      <td>14100</td>\n",
       "      <td>Shrink</td>\n",
       "      <td>300-ON HAND CORRECTION</td>\n",
       "      <td>Consumables</td>\n",
       "      <td>Food</td>\n",
       "      <td>GOURMET FOOD/CANDY</td>\n",
       "      <td>1100 - HOLIDAY GOURMET</td>\n",
       "      <td>1101 - HOLIDAY GOURMET</td>\n",
       "      <td>2023</td>\n",
       "      <td>12</td>\n",
       "      <td>2023-12</td>\n",
       "      <td>0</td>\n",
       "      <td>-</td>\n",
       "      <td>-</td>\n",
       "      <td>-</td>\n",
       "      <td>(11.00)</td>\n",
       "      <td>(26.89)</td>\n",
       "    </tr>\n",
       "    <tr>\n",
       "      <th>452211</th>\n",
       "      <td>PNM</td>\n",
       "      <td>14100</td>\n",
       "      <td>Shrink</td>\n",
       "      <td>301-CYCLE COUNT</td>\n",
       "      <td>Consumables</td>\n",
       "      <td>Sports Nutrition</td>\n",
       "      <td>SPORT NUTRITION</td>\n",
       "      <td>1200 - BARS</td>\n",
       "      <td>1202 - PROTEIN</td>\n",
       "      <td>2023</td>\n",
       "      <td>12</td>\n",
       "      <td>2023-12</td>\n",
       "      <td>-2</td>\n",
       "      <td>(0.88)</td>\n",
       "      <td>-</td>\n",
       "      <td>-</td>\n",
       "      <td>-</td>\n",
       "      <td>-</td>\n",
       "    </tr>\n",
       "  </tbody>\n",
       "</table>\n",
       "<p>1753 rows × 18 columns</p>\n",
       "</div>"
      ],
      "text/plain": [
       "       COMMAND_CD  SITE_ID ADJUSTMENT_CATEGORY             DESCRIPTION  \\\n",
       "173720        PNM    14100              Shrink  300-ON HAND CORRECTION   \n",
       "173727        PNM    14100              Shrink  300-ON HAND CORRECTION   \n",
       "173927        PNM    14100              Shrink  300-ON HAND CORRECTION   \n",
       "174602        PNM    14100              Shrink  300-ON HAND CORRECTION   \n",
       "174693        PNM    14100              Shrink  300-ON HAND CORRECTION   \n",
       "...           ...      ...                 ...                     ...   \n",
       "450659        PNM    14100              Shrink  300-ON HAND CORRECTION   \n",
       "450859        PNM    14100              Shrink         301-CYCLE COUNT   \n",
       "450936        PNM    14100              Shrink  300-ON HAND CORRECTION   \n",
       "451894        PNM    14100              Shrink  300-ON HAND CORRECTION   \n",
       "452211        PNM    14100              Shrink         301-CYCLE COUNT   \n",
       "\n",
       "           DIVISION           LOB_DESC                DEPT_DESC  \\\n",
       "173720  Consumables      Personal Care     PERSNL CARE ELECTRIC   \n",
       "173727  Consumables           Hardware         GENERAL HARDWARE   \n",
       "173927  Consumables               Food              DRY GROCERY   \n",
       "174602  Consumables  Non Alcoholic Bev  NON-ALCOHOLIC BEVERAGES   \n",
       "174693  Consumables               Wine                     WINE   \n",
       "...             ...                ...                      ...   \n",
       "450659  Consumables          Cosmetics            BATH AND BODY   \n",
       "450859  Consumables         Stationery           GREETING CARDS   \n",
       "450936  Consumables          Cosmetics       PRESTIGE FRAGRANCE   \n",
       "451894  Consumables               Food       GOURMET FOOD/CANDY   \n",
       "452211  Consumables   Sports Nutrition          SPORT NUTRITION   \n",
       "\n",
       "                         CLASS                   SUB_CLASS  \\\n",
       "173720     1300 - ORAL HYGIENE         1301 - TOOTHBRUSHES   \n",
       "173727      1200 - LIGHT BULBS         1201 - INCANDESCENT   \n",
       "173927     1500 - NUTS & SEEDS                 1501 - NUTS   \n",
       "174602              1100 - CSD    1104 - 20OZ FLAVORED REG   \n",
       "174693          2100 - POPULAR              2110 - MOSCATO   \n",
       "...                        ...                         ...   \n",
       "450659      5900 - COCOA BROWN                 5901 - BODY   \n",
       "450859   1000 - GREETING CARDS  1003 - WEDDING/ANNIVERSARY   \n",
       "450936     1000 - HFC PRESTIGE        1007 - FRAGRANCE MEN   \n",
       "451894  1100 - HOLIDAY GOURMET      1101 - HOLIDAY GOURMET   \n",
       "452211             1200 - BARS              1202 - PROTEIN   \n",
       "\n",
       "        MERCHANDISING_YEAR  MERCHANDISING_PERIOD   PERIOD  TY_QTY  TY_VALUE   \\\n",
       "173720                2023                     1  2023-01      -1    (47.99)   \n",
       "173727                2023                     1  2023-01      -2     (5.98)   \n",
       "173927                2023                     1  2023-01      -1     (0.89)   \n",
       "174602                2023                     1  2023-01     -20    (39.80)   \n",
       "174693                2023                     1  2023-01       0       -      \n",
       "...                    ...                   ...      ...     ...        ...   \n",
       "450659                2023                    12  2023-12       0       -      \n",
       "450859                2023                    12  2023-12       0       -      \n",
       "450936                2023                    12  2023-12       0       -      \n",
       "451894                2023                    12  2023-12       0       -      \n",
       "452211                2023                    12  2023-12      -2     (0.88)   \n",
       "\n",
       "        LY_QTY2   LY_VALUE2   LM_QTY3   LM_VALUE3   \n",
       "173720      -           -         -           -     \n",
       "173727      -           -         -           -     \n",
       "173927      -           -         -           -     \n",
       "174602      -           -         -           -     \n",
       "174693      -           -       (1.00)      (9.99)  \n",
       "...          ...         ...       ...         ...  \n",
       "450659    (1.00)      (4.94)      -           -     \n",
       "450859      -           -       (2.00)      (5.78)  \n",
       "450936    (1.00)     (53.00)      -           -     \n",
       "451894      -           -      (11.00)     (26.89)  \n",
       "452211      -           -         -           -     \n",
       "\n",
       "[1753 rows x 18 columns]"
      ]
     },
     "execution_count": 22,
     "metadata": {},
     "output_type": "execute_result"
    }
   ],
   "source": [
    "dcopy = data\n",
    "last = None\n",
    "cond = True\n",
    "for i, v in enumerate(DDD):\n",
    "    if i % 2:\n",
    "        cond &= (dcopy[last] == v.value)\n",
    "    else:\n",
    "        last = v.value\n",
    "dcopy[cond]"
   ]
  },
  {
   "cell_type": "code",
   "execution_count": 24,
   "id": "dc698cc4",
   "metadata": {},
   "outputs": [
    {
     "data": {
      "image/png": "[encoded data removed]",
      "text/plain": [
       "<Figure size 640x480 with 1 Axes>"
      ]
     },
     "metadata": {},
     "output_type": "display_data"
    }
   ],
   "source": [
    "filtered_data = dcopy[cond]\n",
    "create_visual(filtered_data[\"LOB_DESC\"], filtered_data)"
   ]
  }
 ],
 "metadata": {
  "kernelspec": {
   "display_name": "Python 3 (ipykernel)",
   "language": "python",
   "name": "python3"
  },
  "language_info": {
   "codemirror_mode": {
    "name": "ipython",
    "version": 3
   },
   "file_extension": ".py",
   "mimetype": "text/x-python",
   "name": "python",
   "nbconvert_exporter": "python",
   "pygments_lexer": "ipython3",
   "version": "3.10.12"
  }
 },
 "nbformat": 4,
 "nbformat_minor": 5
}
